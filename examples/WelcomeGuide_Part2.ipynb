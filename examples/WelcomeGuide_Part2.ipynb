{
 "cells": [
  {
   "cell_type": "markdown",
   "metadata": {},
   "source": [
    "# Optical recordings processing with pyCardiac\n",
    "\n",
    "This notebook demonstrates general pipeline of processing and analysis of Action Potential optical recordings.\n",
    "\n",
    "Please go through this notebook step by step. "
   ]
  },
  {
   "cell_type": "markdown",
   "metadata": {},
   "source": [
    "## Content"
   ]
  },
  {
   "cell_type": "markdown",
   "metadata": {},
   "source": [
    "* 1. <a href=\"#section1\" > Data loading </a>\n",
    "\n",
    "* 2. <a href=\"#section2\" > Processing </a>\n",
    "    * 2.1. <a href=\"#section2.1\" > Fourier filtration</a>\n",
    "    * 2.2. <a href=\"#section2.2\" > Baseline removal </a>\n",
    "    * 2.3. <a href=\"#section2.3\" > Binning (spatial filtration) </a>\n",
    "    * 2.4. <a href=\"#section2.4\" > Rescaling (normalizing) </a>\n",
    "    * 2.5. <a href=\"#section2.5\" > Ensemble averaging </a>\n",
    "    * 2.6. <a href=\"#section2.6\" > Transform to phase </a>\n",
    "    \n",
    "* 3.<a href=\"#section3\" > Mapping </a>\n",
    "    * 3.1. <a href=\"#section3.1\" > APD and Alternance maps </a>\n",
    "    * 3.2. <a href=\"#section3.2\" > Activation time map </a>\n",
    "    * 3.3. <a href=\"#section3.3\" > Phase singularity points (PS) </a>"
   ]
  },
  {
   "cell_type": "code",
   "execution_count": null,
   "metadata": {},
   "outputs": [],
   "source": [
    "import numpy as np\n",
    "import matplotlib.pyplot as plt\n",
    "\n",
    "import pyCardiac as pc\n",
    "from pyCardiac.rhythm import *\n",
    "from pyCardiac.signal.analysis import phase_singularity_detection"
   ]
  },
  {
   "cell_type": "markdown",
   "metadata": {},
   "source": [
    "<a id='section1'></a>\n",
    "## Data loading"
   ]
  },
  {
   "cell_type": "code",
   "execution_count": null,
   "metadata": {},
   "outputs": [],
   "source": [
    "data_raw_filename = \"./source/sample_optical_recordings.npy\"\n",
    "data_raw = np.load(data_raw_filename)"
   ]
  },
  {
   "cell_type": "markdown",
   "metadata": {},
   "source": [
    "<a id='section2'></a>\n",
    "## Processing"
   ]
  },
  {
   "cell_type": "code",
   "execution_count": null,
   "metadata": {},
   "outputs": [],
   "source": [
    "data = data_raw.copy()\n",
    "mask = np.loadtxt(\"./source/sample_optical_recordings_mask.txt\").astype(np.bool)\n",
    "x, y, t = 80, 60, 15"
   ]
  },
  {
   "cell_type": "code",
   "execution_count": null,
   "metadata": {},
   "outputs": [],
   "source": [
    "plt.figure(figsize = (10, 3.5))\n",
    "\n",
    "plt.subplot(1, 2, 1)\n",
    "frame = np.ma.masked_where(~mask, data[:, :, t])\n",
    "plt.imshow(frame, cmap=\"jet\")\n",
    "plt.plot(x, y, '*w', ms = 10)\n",
    "plt.colorbar()\n",
    "plt.title(\"data, t = {t}\".format(t = t))\n",
    "\n",
    "plt.subplot(1, 2, 2)\n",
    "plt.imshow(mask, cmap = \"Greys_r\")\n",
    "plt.plot(x, y, '*k', ms = 10)\n",
    "plt.title(\"mask\")\n",
    "\n",
    "plt.show()\n",
    "\n",
    "plt.figure(figsize = (10, 3.5))\n",
    "plt.plot(data[y, x, :])\n",
    "plt.title(\"signal: x = {x}, y = {y}\".format(x=x, y=y))\n",
    "plt.show()"
   ]
  },
  {
   "cell_type": "markdown",
   "metadata": {},
   "source": [
    "<a id='section2.1'></a>\n",
    "### Fourier filtration"
   ]
  },
  {
   "cell_type": "code",
   "execution_count": null,
   "metadata": {},
   "outputs": [],
   "source": [
    "kwargs = {'fs' : 1000, # sampling frequency (Hz)\n",
    "          'lp_freq' : 100, # lowpass frequency (Hz)\n",
    "          'hp_freq' : None, # highpass frequency (Hz)\n",
    "          'bs_freqs' : [60, ], # bandstop frequency (Hz)\n",
    "          'trans_width' : 2, # width of transition region between bands (Hz)\n",
    "          'band_width' : 2, # width of bandstop in (Hz)\n",
    "         }\n",
    "%time data_filtered = fourier_filter(data, **kwargs)"
   ]
  },
  {
   "cell_type": "code",
   "execution_count": null,
   "metadata": {},
   "outputs": [],
   "source": [
    "plt.figure(figsize = (10, 3.5))\n",
    "plt.subplot(1, 2, 1)\n",
    "frame = np.ma.masked_where(~mask, data[:, :, t])\n",
    "plt.imshow(frame, cmap = \"jet\")\n",
    "plt.plot(x, y, '*w', ms = 10)\n",
    "plt.colorbar()\n",
    "plt.title(\"data, t = {t}\".format(t = t))\n",
    "\n",
    "plt.subplot(1, 2, 2)\n",
    "frame = np.ma.masked_where(~mask, data_filtered[:, :, t])\n",
    "plt.imshow(frame, cmap = \"jet\")\n",
    "plt.plot(x, y, '*w', ms = 10)\n",
    "plt.colorbar()\n",
    "plt.title(\"data filtered, t = {t}\".format(t = t))\n",
    "\n",
    "plt.show()\n",
    "\n",
    "plt.figure(figsize = (10, 3.5))\n",
    "plt.plot(data[y, x, :],\n",
    "         label = \"data\", color = \"C0\")\n",
    "plt.plot(data_filtered[y, x, :],\n",
    "         label = \"data filtered\", color = \"C1\")\n",
    "plt.title(\"Signal: x = {x}, y = {y}\".format(x=x, y=y))\n",
    "plt.legend()\n",
    "plt.show()"
   ]
  },
  {
   "cell_type": "markdown",
   "metadata": {},
   "source": [
    "<a id='section2.2'></a>\n",
    "### Baseline removal"
   ]
  },
  {
   "cell_type": "code",
   "execution_count": null,
   "metadata": {},
   "outputs": [],
   "source": [
    "#Linear detrending\n",
    "%time data_detrended = remove_baseline(data_filtered)\n",
    "\n",
    "# Asymmetric-Least-Squares Method (slow but more powerful)\n",
    "# uncomment to use\n",
    "#niter = 2\n",
    "#%time data_detrended = remove_baseline(data_filtered, method_name=\"least_squares\", niter = niter)"
   ]
  },
  {
   "cell_type": "code",
   "execution_count": null,
   "metadata": {},
   "outputs": [],
   "source": [
    "plt.figure(figsize = (10, 3.5))\n",
    "plt.subplot(1, 2, 1)\n",
    "frame = np.ma.masked_where(~mask, data_filtered[:, :, t])\n",
    "plt.imshow(frame, cmap = \"jet\")\n",
    "plt.plot(x, y, '*w', ms = 10)\n",
    "plt.colorbar()\n",
    "plt.title(\"data filtered, t = {t}\".format(t = t))\n",
    "\n",
    "plt.subplot(1, 2, 2)\n",
    "frame = np.ma.masked_where(~mask, data_detrended[:, :, t])\n",
    "plt.imshow(frame, cmap = \"jet\")\n",
    "plt.plot(x, y, '*w', ms = 10)\n",
    "plt.colorbar()\n",
    "plt.title(\"data detrended, t = {t}\".format(t = t))\n",
    "\n",
    "plt.show()\n",
    "\n",
    "\n",
    "fig, ax1 = plt.subplots(figsize = (10, 3.5))\n",
    "ax1.plot(data_filtered[y, x, :], color = \"C1\")\n",
    "ax1.set_title(\"Signal: x = {x}, y = {y}\".format(x=x, y=y))\n",
    "ax1.set_ylabel(\"data filtered\", color='C1')\n",
    "\n",
    "ax2 = ax1.twinx()\n",
    "ax2.plot(data_detrended[y, x, :], color = \"C2\")\n",
    "ax2.set_ylabel(\"data detrended\", color='C2')\n",
    "plt.show()"
   ]
  },
  {
   "cell_type": "markdown",
   "metadata": {},
   "source": [
    "<a id='section2.3'></a>\n",
    "### Binning (spatial filtration)"
   ]
  },
  {
   "cell_type": "code",
   "execution_count": null,
   "metadata": {},
   "outputs": [],
   "source": [
    "%time data_binned = binning(data_detrended, 9, \"gaussian\", mask)"
   ]
  },
  {
   "cell_type": "code",
   "execution_count": null,
   "metadata": {},
   "outputs": [],
   "source": [
    "plt.figure(figsize = (10, 3.5))\n",
    "\n",
    "plt.subplot(1, 2, 1)\n",
    "frame = np.ma.masked_where(~mask, data_detrended[:, :, t])\n",
    "plt.imshow(frame, cmap = \"jet\")\n",
    "plt.plot(x, y, '*w', ms = 10)\n",
    "plt.colorbar()\n",
    "plt.title(\"data detrended, t = {t}\".format(t = t))\n",
    "\n",
    "plt.subplot(1, 2, 2)\n",
    "frame = np.ma.masked_where(~mask, data_binned[:, :, t])\n",
    "plt.imshow(frame, cmap = \"jet\")\n",
    "plt.plot(x, y, '*w', ms = 10)\n",
    "plt.colorbar()\n",
    "plt.title(\"data binned, t = {t}\".format(t = t))\n",
    "\n",
    "plt.show()\n",
    "\n",
    "plt.figure(figsize = (10, 3.5))\n",
    "plt.plot(data_detrended[y, x, :],\n",
    "         label = \"data detrended\", color = \"C2\")\n",
    "plt.plot(data_binned[y, x, :],\n",
    "         label = \"data binned\", color = \"C3\")\n",
    "plt.title(\"Signal: x = {x}, y = {y}\".format(x=x, y=y))\n",
    "plt.legend()\n",
    "plt.show()"
   ]
  },
  {
   "cell_type": "markdown",
   "metadata": {},
   "source": [
    "<a id='section2.4'></a>\n",
    "### Rescaling (normalizing)"
   ]
  },
  {
   "cell_type": "code",
   "execution_count": null,
   "metadata": {},
   "outputs": [],
   "source": [
    "%time data_rescaled = rescale(data_binned)"
   ]
  },
  {
   "cell_type": "code",
   "execution_count": null,
   "metadata": {},
   "outputs": [],
   "source": [
    "plt.figure(figsize = (10, 3.5))\n",
    "\n",
    "plt.subplot(1, 2, 1)\n",
    "frame = np.ma.masked_where(~mask, data_binned[:, :, t])\n",
    "plt.imshow(frame, cmap = \"jet\")\n",
    "plt.plot(x, y, '*w', ms = 10)\n",
    "plt.colorbar()\n",
    "plt.title(\"data binned, t = {t}\".format(t = t))\n",
    "\n",
    "plt.subplot(1, 2, 2)\n",
    "frame = np.ma.masked_where(~mask, data_rescaled[:, :, t])\n",
    "plt.imshow(frame, cmap = \"jet\")\n",
    "plt.plot(x, y, '*w', ms = 10)\n",
    "plt.colorbar()\n",
    "plt.title(\"data rescaled, t = {t}\".format(t = t))\n",
    "\n",
    "plt.show()\n",
    "\n",
    "\n",
    "fig, ax1 = plt.subplots(figsize = (10, 3.5))\n",
    "ax1.plot(data_binned[y, x, :], color = \"C3\")\n",
    "ax1.set_title(\"Signal: x = {x}, y = {y}\".format(x=x, y=y))\n",
    "ax1.set_ylabel(\"data binned\", color='C3')\n",
    "\n",
    "ax2 = ax1.twinx()\n",
    "ax2.plot(data_rescaled[y, x, :], '.', color = \"C4\")\n",
    "ax2.set_ylabel(\"data rescaled\", color='C4')\n",
    "plt.show()"
   ]
  },
  {
   "cell_type": "markdown",
   "metadata": {},
   "source": [
    "<a id='section2.5'></a>\n",
    "### Ensemble averaging"
   ]
  },
  {
   "cell_type": "markdown",
   "metadata": {},
   "source": [
    "Now let's try to find *cycle length* of our signal and apply ensemble averaging.\n",
    "\n",
    "In case of known *cycle length* (pacing cycle length (PCL) for example) just use it."
   ]
  },
  {
   "cell_type": "code",
   "execution_count": null,
   "metadata": {},
   "outputs": [],
   "source": [
    "cycle_length = 75.\n",
    "signal = data_rescaled[y, x]\n",
    "\n",
    "plt.figure(figsize = (6, 2))\n",
    "plt.plot(signal)\n",
    "plt.plot(np.roll(signal, 75))\n",
    "plt.show()"
   ]
  },
  {
   "cell_type": "markdown",
   "metadata": {},
   "source": [
    "So it looks like *cycle_length = 75* is OK."
   ]
  },
  {
   "cell_type": "code",
   "execution_count": null,
   "metadata": {},
   "outputs": [],
   "source": [
    "%time data_averaged = ensemble_average(data_rescaled, cycle_length)"
   ]
  },
  {
   "cell_type": "code",
   "execution_count": null,
   "metadata": {},
   "outputs": [],
   "source": [
    "plt.figure(figsize = (10, 3.5))\n",
    "\n",
    "plt.subplot(1, 2, 1)\n",
    "frame = np.ma.masked_where(~mask, data_rescaled[:, :, t])\n",
    "plt.imshow(frame, cmap = \"jet\")\n",
    "plt.plot(x, y, '*w', ms = 10)\n",
    "plt.colorbar()\n",
    "plt.title(\"data rescaled, t = {t}\".format(t = t))\n",
    "\n",
    "plt.subplot(1, 2, 2)\n",
    "frame = np.ma.masked_where(~mask, data_averaged[:, :, t])\n",
    "plt.imshow(frame, cmap = \"jet\")\n",
    "plt.plot(x, y, '*w', ms = 10)\n",
    "plt.colorbar()\n",
    "plt.title(\"data averaged, t = {t}\".format(t = t))\n",
    "\n",
    "plt.show()\n",
    "\n",
    "\n",
    "fig, ax1 = plt.subplots(figsize = (10, 3.5))\n",
    "ax1.plot(data_rescaled[y, x, :], color = \"C4\")\n",
    "ax1.set_title(\"Signal: x = {x}, y = {y}\".format(x=x, y=y))\n",
    "ax1.set_ylabel(\"data rescaled\", color='C4')\n",
    "\n",
    "ax2 = ax1.twinx()\n",
    "ax2.plot(data_averaged[y, x, :], color = \"C5\")\n",
    "ax2.set_ylabel(\"data averaged\", color='C5')\n",
    "plt.show()"
   ]
  },
  {
   "cell_type": "markdown",
   "metadata": {},
   "source": [
    "<a id='section2.6'></a>\n",
    "### Transform to phase"
   ]
  },
  {
   "cell_type": "code",
   "execution_count": null,
   "metadata": {},
   "outputs": [],
   "source": [
    "%time phase = transform_to_phase(data_rescaled)"
   ]
  },
  {
   "cell_type": "code",
   "execution_count": null,
   "metadata": {},
   "outputs": [],
   "source": [
    "plt.figure(figsize = (10, 3.5))\n",
    "\n",
    "plt.subplot(1, 2, 1)\n",
    "frame = np.ma.masked_where(~mask, data_rescaled[:, :, t])\n",
    "plt.imshow(frame, cmap = \"jet\")\n",
    "plt.plot(x, y, '*w', ms = 10)\n",
    "plt.colorbar()\n",
    "plt.title(\"data rescaled, t = {t}\".format(t = t))\n",
    "\n",
    "plt.subplot(1, 2, 2)\n",
    "frame = np.ma.masked_where(~mask, phase[:, :, t])\n",
    "plt.imshow(frame, cmap = \"hsv\")\n",
    "plt.plot(x, y, '*w', ms = 10)\n",
    "plt.colorbar()\n",
    "plt.title(\"phase, t = {t}\".format(t = t))\n",
    "\n",
    "plt.show()\n",
    "\n",
    "\n",
    "fig, ax1 = plt.subplots(figsize = (10, 3.5))\n",
    "ax1.plot(data_rescaled[y, x, :], color = \"C4\")\n",
    "ax1.set_title(\"Signal: x = {x}, y = {y}\".format(x=x, y=y))\n",
    "ax1.set_ylabel(\"data rescaled\", color='C4')\n",
    "\n",
    "ax2 = ax1.twinx()\n",
    "ax2.plot(phase[y, x, :], color = \"C6\")\n",
    "ax2.set_ylabel(\"phase\", color='C6')\n",
    "plt.show()"
   ]
  },
  {
   "cell_type": "markdown",
   "metadata": {},
   "source": [
    "<a id='section3'></a>\n",
    "## Mapping"
   ]
  },
  {
   "cell_type": "markdown",
   "metadata": {},
   "source": [
    "<a id='section3.1'></a>\n",
    "### APD and Alternance maps"
   ]
  },
  {
   "cell_type": "code",
   "execution_count": null,
   "metadata": {},
   "outputs": [],
   "source": [
    "t_start, t_end = 200, 300\n",
    "percentage = 60\n",
    "%time apd_map = calculate_APD_map(data_rescaled, t_start, t_end, percentage).astype(float)"
   ]
  },
  {
   "cell_type": "code",
   "execution_count": null,
   "metadata": {},
   "outputs": [],
   "source": [
    "t_start, t_end = 200, 400\n",
    "percentage = 60\n",
    "%time alt_map = calculate_alternance_map(data_rescaled, t_start, t_end, percentage).astype(float)"
   ]
  },
  {
   "cell_type": "code",
   "execution_count": null,
   "metadata": {},
   "outputs": [],
   "source": [
    "plt.figure(figsize = (10, 3.5))\n",
    "\n",
    "plt.subplot(1, 2, 1)\n",
    "frame = np.ma.masked_where(~mask, apd_map)\n",
    "plt.imshow(frame, cmap = \"jet\")\n",
    "plt.colorbar(label = \"AP duration\")\n",
    "plt.title(\"APD{percentage} map\".format(percentage = percentage))\n",
    "\n",
    "plt.subplot(1, 2, 2)\n",
    "frame = np.ma.masked_where(~mask, alt_map)\n",
    "alt_abs = np.nanmax(np.abs(alt_map))\n",
    "plt.imshow(frame, cmap = \"bwr\",\n",
    "           vmin = -alt_abs, vmax = alt_abs)\n",
    "plt.colorbar(label = \"AP duration difference\")\n",
    "plt.title(\"Alternance map (for APD{percentage})\".format(percentage = percentage))\n",
    "\n",
    "plt.show()"
   ]
  },
  {
   "cell_type": "markdown",
   "metadata": {},
   "source": [
    "<a id='section3.2'></a>\n",
    "### Activation time map"
   ]
  },
  {
   "cell_type": "code",
   "execution_count": null,
   "metadata": {},
   "outputs": [],
   "source": [
    "t_start, t_end = 300, 310\n",
    "%time act_map = calculate_activation_map(data_rescaled, t_start, t_end, 90.)"
   ]
  },
  {
   "cell_type": "code",
   "execution_count": null,
   "metadata": {},
   "outputs": [],
   "source": [
    "plt.figure(figsize = (1.1 * 3.5, 3.5))\n",
    "frame = np.ma.masked_where(~mask, act_map)\n",
    "frame = np.flipud(frame)\n",
    "plt.contourf(frame, cmap = 'rainbow_r',\n",
    "             origin = \"lower\")\n",
    "plt.colorbar(label = \"Activation time\", fraction=0.1, pad=0.04)\n",
    "plt.title(\"Activation map\")\n",
    "plt.axis('equal')\n",
    "\n",
    "plt.show()"
   ]
  },
  {
   "cell_type": "markdown",
   "metadata": {},
   "source": [
    "<a id='section3.3'></a>\n",
    "### Phase singularity points (PS)"
   ]
  },
  {
   "cell_type": "code",
   "execution_count": null,
   "metadata": {},
   "outputs": [],
   "source": [
    "ps = phase_singularity_detection(phase[:, :, t])"
   ]
  },
  {
   "cell_type": "code",
   "execution_count": null,
   "metadata": {},
   "outputs": [],
   "source": [
    "frame = np.ma.masked_where(~mask, phase[:, :, t])\n",
    "plt.imshow(frame, cmap = 'hsv')\n",
    "plt.colorbar()\n",
    "plt.plot(ps[:, 1], ps[:, 0], 'k.', ms = 10)\n",
    "plt.plot(ps[:, 1], ps[:, 0], 'w.', ms = 5)\n",
    "plt.title(\"PS\")\n",
    "plt.show()"
   ]
  },
  {
   "cell_type": "code",
   "execution_count": null,
   "metadata": {},
   "outputs": [],
   "source": []
  },
  {
   "cell_type": "code",
   "execution_count": null,
   "metadata": {},
   "outputs": [],
   "source": []
  }
 ],
 "metadata": {
  "kernelspec": {
   "display_name": "Python 3",
   "language": "python",
   "name": "python3"
  },
  "language_info": {
   "codemirror_mode": {
    "name": "ipython",
    "version": 3
   },
   "file_extension": ".py",
   "mimetype": "text/x-python",
   "name": "python",
   "nbconvert_exporter": "python",
   "pygments_lexer": "ipython3",
   "version": "3.7.3"
  }
 },
 "nbformat": 4,
 "nbformat_minor": 2
}
