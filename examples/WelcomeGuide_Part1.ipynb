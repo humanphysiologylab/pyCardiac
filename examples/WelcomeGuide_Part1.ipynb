{
 "cells": [
  {
   "cell_type": "markdown",
   "metadata": {},
   "source": [
    "<a id='section0'></a>\n",
    "\n",
    "# Welcome to pyCardiac!\n",
    "\n",
    "This notebook demonstrates various 1D pyCardiac features. Full list of them below:"
   ]
  },
  {
   "cell_type": "markdown",
   "metadata": {},
   "source": [
    "* 1. <a href=\"#section1\" > Metrics </a>\n",
    "    * 1.1.<a href=\"#section1.1\" >Standard deviation (SD) calculation </a>\n",
    "    * 1.2. <a href=\"#section1.2\">Sum Of Squared Differences (SSD) calculation</a>\n",
    "* 2. <a href=\"#section2\" > Routines </a>\n",
    "    * 2.1. <a href=\"#section2.1\" >Additive Gaussian White Noise (AWGN)</a>\n",
    "    * 2.2. <a href=\"#section2.2\" >Signal rescaling </a>\n",
    "    * 2.3. <a href=\"#section2.3\" >Moving average </a>\n",
    "* 3. <a href=\"#section3\" > Signal </a>\n",
    "     * 3.1. <a href=\"#section3.1\" > Analysis </a>\n",
    "        * 3.1.1. <a href=\"#section3.1.1\" >APD calculation </a>\n",
    "        * 3.1.2. <a href=\"#section3.1.2\" >Activation time calculation </a>\n",
    "        * 3.1.3. <a href=\"#section3.1.3\" >Alternance detection </a>\n",
    "        * 3.1.4. <a href=\"#section3.1.4\" >Signal-to-noise ratio </a>\n",
    "     * 3.2. <a href=\"#section3.2\" > Processing </a>\n",
    "        * 3.2.1. <a href=\"#section3.2.1\" > Autoscaling technique </a>\n",
    "        * 3.2.2. <a href=\"#section3.2.2\" > Ensemble averaging </a>\n",
    "        * 3.2.3. <a href=\"#section3.2.3\" > Baseline (drift) removal </a>\n",
    "        * 3.2.4. <a href=\"#section3.2.4\" > Baseline extraction </a>\n",
    "        * 3.2.5. <a href=\"#section3.2.4\" > Transformation to phase </a>\n",
    "        * 3.2.6 <a href=\"#section3.2\" > Filtration </a>\n",
    "            * a) <a href=\"#section.a\" > Binning </a>\n",
    "            * b) <a href=\"#section.b\" > Fourier filter </a>"
   ]
  },
  {
   "cell_type": "code",
   "execution_count": null,
   "metadata": {},
   "outputs": [],
   "source": [
    "import numpy as np"
   ]
  },
  {
   "cell_type": "code",
   "execution_count": null,
   "metadata": {},
   "outputs": [],
   "source": [
    "import matplotlib.pyplot as plt"
   ]
  },
  {
   "cell_type": "markdown",
   "metadata": {},
   "source": [
    "## Single import"
   ]
  },
  {
   "cell_type": "code",
   "execution_count": null,
   "metadata": {},
   "outputs": [],
   "source": [
    "import pyCardiac as pc"
   ]
  },
  {
   "cell_type": "markdown",
   "metadata": {},
   "source": [
    "<a id='section1'></a>\n",
    "## 1. Metrics\n",
    "\n",
    "Metrics below may be used to compare goodness of fit between Action Potentials via Genetic Algorithm.    \n",
    "<a href=\"#section0\" >Link back to top $\\uparrow$</a>"
   ]
  },
  {
   "cell_type": "markdown",
   "metadata": {},
   "source": [
    "### 1.1 SD\n",
    "Calculation <a href=\"https://en.wikipedia.org/wiki/Standard_deviation\" >Standard deviation</a> as error norm between two signals.\n",
    "$$ SSD = \\sqrt{\\frac{1}{N}\\sum_{t=0}^{N}[V_{target}(t)-V_{model}(t)]^2} $$\n",
    "<a id='section1.1'></a>"
   ]
  },
  {
   "cell_type": "markdown",
   "metadata": {},
   "source": [
    "Let's load two signals:"
   ]
  },
  {
   "cell_type": "code",
   "execution_count": null,
   "metadata": {},
   "outputs": [],
   "source": [
    "signal_clean = np.loadtxt(\"./source/AP_1000.txt\")"
   ]
  },
  {
   "cell_type": "code",
   "execution_count": null,
   "metadata": {},
   "outputs": [],
   "source": [
    "signal_noisy = np.loadtxt(\"./source/AP_1000_with_noise.txt\")"
   ]
  },
  {
   "cell_type": "markdown",
   "metadata": {},
   "source": [
    "Two action potentials look like this:"
   ]
  },
  {
   "cell_type": "code",
   "execution_count": null,
   "metadata": {},
   "outputs": [],
   "source": [
    "plt.plot(signal_noisy, 'b')\n",
    "plt.plot(signal_clean, 'r')\n",
    "plt.xlabel('Time, ms')\n",
    "plt.ylabel('V, mV')\n",
    "plt.grid()\n",
    "plt.show()"
   ]
  },
  {
   "cell_type": "markdown",
   "metadata": {},
   "source": [
    "Finally, calculate the standard deviation:"
   ]
  },
  {
   "cell_type": "code",
   "execution_count": null,
   "metadata": {},
   "outputs": [],
   "source": [
    "pc.metrics.norms.sd(signal_noisy, signal_clean)"
   ]
  },
  {
   "cell_type": "markdown",
   "metadata": {},
   "source": [
    "### 1.2 SSD\n",
    "Sum Of Squared Differences (SSD) calculation\n",
    "$$ SSD = \\sum_{t=0}^{N}[V_{target}(t)-V_{model}(t)]^2 $$\n",
    "<a id='section1.2'></a>"
   ]
  },
  {
   "cell_type": "code",
   "execution_count": null,
   "metadata": {},
   "outputs": [],
   "source": [
    "pc.metrics.norms.ssd(signal_noisy, signal_clean)"
   ]
  },
  {
   "cell_type": "markdown",
   "metadata": {},
   "source": [
    "<a id='section2'></a>\n",
    "## 2. Routines\n",
    "   \n",
    "<a href=\"#section0\" >Link back to top $\\uparrow$</a>"
   ]
  },
  {
   "cell_type": "markdown",
   "metadata": {},
   "source": [
    "### 2.1 Additive White Gaussian Noise\n",
    "<a id='section2.1'></a>"
   ]
  },
  {
   "cell_type": "markdown",
   "metadata": {},
   "source": [
    "Let's say we have a signal without noise, but we want to add to it gaussian white noise for the given SNR level in dB."
   ]
  },
  {
   "cell_type": "code",
   "execution_count": null,
   "metadata": {},
   "outputs": [],
   "source": [
    "snr_level = 15"
   ]
  },
  {
   "cell_type": "code",
   "execution_count": null,
   "metadata": {},
   "outputs": [],
   "source": [
    "new_signal = pc.routines.awgn(signal_clean, snr_level)"
   ]
  },
  {
   "cell_type": "code",
   "execution_count": null,
   "metadata": {},
   "outputs": [],
   "source": [
    "plt.plot(new_signal, 'b',  label = 'signal with awgn')\n",
    "plt.plot(signal_clean, 'r', label = 'clean signal')\n",
    "plt.xlabel('Time, ms')\n",
    "plt.ylabel('V, mV')\n",
    "plt.legend()\n",
    "plt.grid()\n",
    "plt.show()"
   ]
  },
  {
   "cell_type": "markdown",
   "metadata": {},
   "source": [
    "### 2.2 Signal rescaling\n",
    "Rescale signal from $v_{min}$ to $v_{max}$\n",
    "<a id='section2.2'></a>"
   ]
  },
  {
   "cell_type": "markdown",
   "metadata": {},
   "source": [
    "Let's set scaling range:"
   ]
  },
  {
   "cell_type": "code",
   "execution_count": null,
   "metadata": {},
   "outputs": [],
   "source": [
    "v_min = -40\n",
    "v_max = 50"
   ]
  },
  {
   "cell_type": "code",
   "execution_count": null,
   "metadata": {},
   "outputs": [],
   "source": [
    "rescaled_signal = pc.routines.rescale(signal_clean, v_min, v_max)"
   ]
  },
  {
   "cell_type": "code",
   "execution_count": null,
   "metadata": {},
   "outputs": [],
   "source": [
    "plt.plot(rescaled_signal, 'b',  label = 'rescaled signal')\n",
    "plt.plot(signal_clean, 'r', label = 'source signal')\n",
    "plt.xlabel('Time, ms')\n",
    "plt.ylabel('V, mV')\n",
    "plt.grid()\n",
    "plt.legend()\n",
    "plt.show()"
   ]
  },
  {
   "cell_type": "markdown",
   "metadata": {},
   "source": [
    "### 2.3 Moving average\n",
    "Moving average of the signal.\n",
    "<a id='section2.3'></a>"
   ]
  },
  {
   "cell_type": "code",
   "execution_count": null,
   "metadata": {},
   "outputs": [],
   "source": [
    "window_size = 3"
   ]
  },
  {
   "cell_type": "code",
   "execution_count": null,
   "metadata": {},
   "outputs": [],
   "source": [
    "ma_signal = pc.routines.moving_average(signal_noisy, window_size)"
   ]
  },
  {
   "cell_type": "code",
   "execution_count": null,
   "metadata": {},
   "outputs": [],
   "source": [
    "plt.plot(signal_noisy, 'r', label = 'source signal')\n",
    "plt.plot(ma_signal, 'b',  label = 'signal after moving averaging')\n",
    "plt.xlabel('Time, ms')\n",
    "plt.ylabel('V, mV')\n",
    "plt.grid()\n",
    "plt.legend()\n",
    "plt.show()"
   ]
  },
  {
   "cell_type": "markdown",
   "metadata": {},
   "source": [
    "<a id='section3'></a>\n",
    "## 3. Signal \n",
    "   \n",
    "<a href=\"#section0\" >Link back to top $\\uparrow$</a>"
   ]
  },
  {
   "cell_type": "code",
   "execution_count": null,
   "metadata": {},
   "outputs": [],
   "source": [
    "from pyCardiac.signal.analysis import *"
   ]
  },
  {
   "cell_type": "code",
   "execution_count": null,
   "metadata": {},
   "outputs": [],
   "source": [
    "from pyCardiac.signal.processing import *"
   ]
  },
  {
   "cell_type": "markdown",
   "metadata": {},
   "source": [
    "<a id='section3.1.1'></a>\n",
    "### 3.1.1 APD calculation\n",
    "Action Potential Duration (APD) calculation for given percentage repolarization level.    \n",
    "<a href=\"#section0\" >Link back to top $\\uparrow$</a>"
   ]
  },
  {
   "cell_type": "code",
   "execution_count": null,
   "metadata": {},
   "outputs": [],
   "source": [
    "t = np.arange(len(signal_clean))"
   ]
  },
  {
   "cell_type": "code",
   "execution_count": null,
   "metadata": {},
   "outputs": [],
   "source": [
    "apd80 = calculate_APD(t, signal_clean, 80)\n",
    "apd90 = calculate_APD(t, signal_clean, 90)"
   ]
  },
  {
   "cell_type": "code",
   "execution_count": null,
   "metadata": {},
   "outputs": [],
   "source": [
    "print('APD80: %.1f ms'% apd80)\n",
    "print('APD90: %.1f ms'% apd90)"
   ]
  },
  {
   "cell_type": "code",
   "execution_count": null,
   "metadata": {},
   "outputs": [],
   "source": [
    "plt.plot(signal_clean, 'b', label = 'APD80: %.1f ms'% apd80)\n",
    "plt.xlabel('Time, ms')\n",
    "plt.ylabel('V, mV')\n",
    "plt.legend()\n",
    "plt.grid()\n",
    "plt.show()"
   ]
  },
  {
   "cell_type": "markdown",
   "metadata": {},
   "source": [
    "<a id='section3.1.2'></a>\n",
    "### 3.1.2 Activation time calculation"
   ]
  },
  {
   "cell_type": "code",
   "execution_count": null,
   "metadata": {},
   "outputs": [],
   "source": [
    "activation_time = calculate_activation_time(t, signal_clean, 50)\n",
    "print('Activation_time: %.1f ms'% activation_time)"
   ]
  },
  {
   "cell_type": "markdown",
   "metadata": {},
   "source": [
    "<a id='section3.1.3'></a>\n",
    "### 3.1.3 Alternance detection\n",
    "This feature allows to detect action potential alternance and find out alternance in time units.    "
   ]
  },
  {
   "cell_type": "code",
   "execution_count": null,
   "metadata": {},
   "outputs": [],
   "source": [
    "signal_alternance = np.loadtxt(\"./source/AP_with_alternance.txt\")"
   ]
  },
  {
   "cell_type": "code",
   "execution_count": null,
   "metadata": {},
   "outputs": [],
   "source": [
    "plt.figure(figsize=(8,4))\n",
    "plt.plot(signal_alternance[:180,0], signal_alternance[:180,1], 'b')\n",
    "plt.xlabel('Time, s')\n",
    "plt.grid()\n",
    "plt.show()"
   ]
  },
  {
   "cell_type": "markdown",
   "metadata": {},
   "source": [
    "Percentage repolarization level and $APD_{min}$:"
   ]
  },
  {
   "cell_type": "code",
   "execution_count": null,
   "metadata": {},
   "outputs": [],
   "source": [
    "level = 50.\n",
    "apd_min = 0.015 # in seconds!"
   ]
  },
  {
   "cell_type": "markdown",
   "metadata": {},
   "source": [
    "Alternance in time units:"
   ]
  },
  {
   "cell_type": "code",
   "execution_count": null,
   "metadata": {},
   "outputs": [],
   "source": [
    "calculate_alternance(signal_alternance[:180,0], signal_alternance[:180,1], level, apd_min)"
   ]
  },
  {
   "cell_type": "markdown",
   "metadata": {},
   "source": [
    "<a id='section3.1.4'></a>\n",
    "### 3.1.4 Signal-to-noise ratio (SNR)\n",
    "Signal-to-noise ratio is defined as the ratio of the power of a signal to power of background noise ( <a href=\"https://en.wikipedia.org/wiki/Signal-to-noise_ratio\" >Wiki</a> ):\n",
    "$$ SNR [db] =20\\cdot \\log_{10} (\\frac{A_{signal}}{A_{noise}})$$"
   ]
  },
  {
   "cell_type": "code",
   "execution_count": null,
   "metadata": {},
   "outputs": [],
   "source": [
    "ratio = snr(signal_noisy, signal_clean)\n",
    "print('SNR: %.1f dB'% ratio)"
   ]
  },
  {
   "cell_type": "code",
   "execution_count": null,
   "metadata": {},
   "outputs": [],
   "source": [
    "plt.plot(signal_noisy, 'b', label = 'snr = %.1f dB'% ratio)\n",
    "plt.plot(signal_clean, 'r')\n",
    "plt.xlabel('Time, ms')\n",
    "plt.ylabel('V, mV')\n",
    "plt.grid()\n",
    "plt.legend()\n",
    "plt.show()"
   ]
  },
  {
   "cell_type": "markdown",
   "metadata": {},
   "source": [
    "<a id='section3.2.1'></a>\n",
    "### 3.2.1 Autoscaling technique"
   ]
  },
  {
   "cell_type": "markdown",
   "metadata": {},
   "source": [
    "Let's transform our original signal: stretch and move it"
   ]
  },
  {
   "cell_type": "code",
   "execution_count": null,
   "metadata": {},
   "outputs": [],
   "source": [
    "signal_transformed = 0.65 * signal_clean - 10."
   ]
  },
  {
   "cell_type": "markdown",
   "metadata": {},
   "source": [
    "Compare with the original signal:"
   ]
  },
  {
   "cell_type": "code",
   "execution_count": null,
   "metadata": {},
   "outputs": [],
   "source": [
    "plt.plot(signal_clean, 'r', label = 'original signal')\n",
    "plt.plot(signal_transformed, 'b',  label = 'transformed signal')\n",
    "plt.xlabel('Time, ms')\n",
    "plt.ylabel('V, mV')\n",
    "plt.grid()\n",
    "plt.legend()\n",
    "plt.show()"
   ]
  },
  {
   "cell_type": "markdown",
   "metadata": {},
   "source": [
    "Thanks to the autoscaling function we can make two signals identical again! Autoscaling function minimizes the error (Standard Deviation) between two signals and returns rescaled signal and SD value:"
   ]
  },
  {
   "cell_type": "code",
   "execution_count": null,
   "metadata": {},
   "outputs": [],
   "source": [
    "rescaled_signal, sd = autoscaling(signal_transformed, signal_clean)"
   ]
  },
  {
   "cell_type": "code",
   "execution_count": null,
   "metadata": {},
   "outputs": [],
   "source": [
    "plt.plot(signal_clean, 'r', label = 'original signal')\n",
    "plt.plot(rescaled_signal, '--',  label = 'rescaled signal')\n",
    "plt.xlabel('Time, ms')\n",
    "plt.ylabel('V, mV')\n",
    "plt.grid()\n",
    "plt.legend()\n",
    "plt.show()"
   ]
  },
  {
   "cell_type": "code",
   "execution_count": null,
   "metadata": {},
   "outputs": [],
   "source": [
    "print('SD: %.14f mV'% sd)"
   ]
  },
  {
   "cell_type": "markdown",
   "metadata": {},
   "source": [
    "<a id='section3.2.2'></a>\n",
    "### 3.2.2 Ensemble averaging\n",
    "Ensemble averaging effectively reduces noise amplitude."
   ]
  },
  {
   "cell_type": "markdown",
   "metadata": {},
   "source": [
    "Original recording:"
   ]
  },
  {
   "cell_type": "code",
   "execution_count": null,
   "metadata": {},
   "outputs": [],
   "source": [
    "signal_125ms = np.loadtxt(\"./source/AP_125ms.txt\")"
   ]
  },
  {
   "cell_type": "code",
   "execution_count": null,
   "metadata": {},
   "outputs": [],
   "source": [
    "time, v = signal_125ms[85:,0], signal_125ms[85:,1]"
   ]
  },
  {
   "cell_type": "code",
   "execution_count": null,
   "metadata": {},
   "outputs": [],
   "source": [
    "plt.figure(figsize=(17,4))\n",
    "plt.plot(time, v, 'b')\n",
    "plt.xlabel('Time, s')\n",
    "plt.grid()\n",
    "plt.show()"
   ]
  },
  {
   "cell_type": "markdown",
   "metadata": {},
   "source": [
    "Cycle length:"
   ]
  },
  {
   "cell_type": "code",
   "execution_count": null,
   "metadata": {},
   "outputs": [],
   "source": [
    "CL = 0.125 # s"
   ]
  },
  {
   "cell_type": "code",
   "execution_count": null,
   "metadata": {},
   "outputs": [],
   "source": [
    "time_space, signal_averaged = ensemble_average(time, v, CL)"
   ]
  },
  {
   "cell_type": "markdown",
   "metadata": {},
   "source": [
    "Now we have averaged action potential:"
   ]
  },
  {
   "cell_type": "code",
   "execution_count": null,
   "metadata": {},
   "outputs": [],
   "source": [
    "plt.title('Averaged AP')\n",
    "plt.plot(time_space, signal_averaged, 'b')\n",
    "plt.xlabel('Time, s')\n",
    "plt.grid()\n",
    "plt.show()"
   ]
  },
  {
   "cell_type": "markdown",
   "metadata": {},
   "source": [
    "<a id='section3.2.3'></a>\n",
    "### 3.2.3 Baseline (drift) removal\n",
    "Let's remove baseline drift from optical action potentials recording. The function takes one of two methods as input: 'least squares' or 'linear' method."
   ]
  },
  {
   "cell_type": "markdown",
   "metadata": {},
   "source": [
    "We will use least squares method:"
   ]
  },
  {
   "cell_type": "code",
   "execution_count": null,
   "metadata": {},
   "outputs": [],
   "source": [
    "method_name = 'least_squares'"
   ]
  },
  {
   "cell_type": "code",
   "execution_count": null,
   "metadata": {},
   "outputs": [],
   "source": [
    "signal_without_drift = remove_baseline(v, method_name)"
   ]
  },
  {
   "cell_type": "code",
   "execution_count": null,
   "metadata": {},
   "outputs": [],
   "source": [
    "plt.figure(figsize=(17,4))\n",
    "plt.plot(time, v, 'r', label = 'with drift')\n",
    "plt.plot(time, signal_without_drift, 'b', label = 'after drift removal')\n",
    "plt.xlabel('Time, s')\n",
    "plt.legend()\n",
    "plt.grid()\n",
    "plt.show()"
   ]
  },
  {
   "cell_type": "markdown",
   "metadata": {},
   "source": [
    "<a id='section3.2.4'></a>\n",
    "### 3.2.4 Baseline extraction \n"
   ]
  },
  {
   "cell_type": "code",
   "execution_count": null,
   "metadata": {},
   "outputs": [],
   "source": [
    "lam = 1e6    # Smoothness parameter\n",
    "p = 0.01     # Asymmetry parameter\n",
    "niter = 10   # Number of iterations"
   ]
  },
  {
   "cell_type": "code",
   "execution_count": null,
   "metadata": {},
   "outputs": [],
   "source": [
    "drift_before = baseline_als(v, lam, p, niter)"
   ]
  },
  {
   "cell_type": "code",
   "execution_count": null,
   "metadata": {},
   "outputs": [],
   "source": [
    "plt.figure(figsize=(17,4))\n",
    "plt.plot(time, v, 'r', label = 'original signal with drift')\n",
    "plt.plot(time, drift_before, 'b', label = 'baseline drift')\n",
    "plt.xlabel('Time, s')\n",
    "plt.legend()\n",
    "plt.grid()\n",
    "plt.show()"
   ]
  },
  {
   "cell_type": "markdown",
   "metadata": {},
   "source": [
    "Now compare with the signal from which we removed the drift via least squares method:"
   ]
  },
  {
   "cell_type": "code",
   "execution_count": null,
   "metadata": {},
   "outputs": [],
   "source": [
    "drift_after = baseline_als(signal_without_drift, lam, p, niter)"
   ]
  },
  {
   "cell_type": "code",
   "execution_count": null,
   "metadata": {},
   "outputs": [],
   "source": [
    "plt.figure(figsize=(17,4))\n",
    "plt.plot(time, signal_without_drift, 'r', label = 'signal after drift removal')\n",
    "plt.plot(time, drift_after, 'b', label = 'baseline drift')\n",
    "plt.xlabel('Time, s')\n",
    "plt.legend()\n",
    "plt.grid()\n",
    "plt.show()"
   ]
  },
  {
   "cell_type": "markdown",
   "metadata": {},
   "source": [
    "<a id='section3.2.5'></a>\n",
    "### 3.2.5 Signal transformation to phase "
   ]
  },
  {
   "cell_type": "code",
   "execution_count": null,
   "metadata": {},
   "outputs": [],
   "source": [
    "phase = transform_to_phase(v)"
   ]
  },
  {
   "cell_type": "code",
   "execution_count": null,
   "metadata": {},
   "outputs": [],
   "source": [
    "plt.figure(figsize=(17,4))\n",
    "plt.plot(time[:2000], phase[:2000], 'b', label = 'phase')\n",
    "plt.xlabel('Time, s')\n",
    "plt.legend()\n",
    "plt.grid()\n",
    "plt.show()"
   ]
  },
  {
   "cell_type": "markdown",
   "metadata": {},
   "source": [
    "<a id='section3.2.6'></a>\n",
    "### 3.2.6 Filtration "
   ]
  },
  {
   "cell_type": "code",
   "execution_count": null,
   "metadata": {},
   "outputs": [],
   "source": [
    "from pyCardiac.signal.processing.filtration import *"
   ]
  },
  {
   "cell_type": "markdown",
   "metadata": {},
   "source": [
    "<a id='section.a'></a>\n",
    "#### a) Binning"
   ]
  },
  {
   "cell_type": "markdown",
   "metadata": {},
   "source": [
    "Let's create a mask for binning:"
   ]
  },
  {
   "cell_type": "code",
   "execution_count": null,
   "metadata": {},
   "outputs": [],
   "source": [
    "n = 101 "
   ]
  },
  {
   "cell_type": "code",
   "execution_count": null,
   "metadata": {},
   "outputs": [],
   "source": [
    "kernel = pc.routines.kernel_gaussian(n, 10)\n",
    "mask = np.roll((kernel > 1e-4), 15)"
   ]
  },
  {
   "cell_type": "code",
   "execution_count": null,
   "metadata": {
    "scrolled": true
   },
   "outputs": [],
   "source": [
    "plt.imshow(mask)\n",
    "plt.show()"
   ]
  },
  {
   "cell_type": "markdown",
   "metadata": {},
   "source": [
    "Create data for binning:"
   ]
  },
  {
   "cell_type": "code",
   "execution_count": null,
   "metadata": {},
   "outputs": [],
   "source": [
    "data = np.random.random(n*n)\n",
    "data[data < 0.8] = 0\n",
    "data.shape = (n,n)"
   ]
  },
  {
   "cell_type": "markdown",
   "metadata": {},
   "source": [
    "Will use uniform and gaussian kernels for binning technique:"
   ]
  },
  {
   "cell_type": "code",
   "execution_count": null,
   "metadata": {},
   "outputs": [],
   "source": [
    "kernel_size = 9\n",
    "uniform_binning = binning(data, kernel_size, 'uniform', mask)\n",
    "gaussian_binning = binning(data, kernel_size, 'gaussian', mask)"
   ]
  },
  {
   "cell_type": "code",
   "execution_count": null,
   "metadata": {},
   "outputs": [],
   "source": [
    "plt.figure(figsize=(17,4))\n",
    "\n",
    "plt.subplot(131)\n",
    "plt.title('Original data')\n",
    "plt.imshow(data)\n",
    "plt.colorbar()\n",
    "\n",
    "plt.subplot(132)\n",
    "plt.title('Uniform kernel')\n",
    "plt.imshow(uniform_binning)\n",
    "plt.colorbar()\n",
    "\n",
    "plt.subplot(133)\n",
    "plt.title('Gaussian kernel')\n",
    "plt.imshow(gaussian_binning)\n",
    "plt.colorbar()\n",
    "\n",
    "plt.show()"
   ]
  },
  {
   "cell_type": "markdown",
   "metadata": {},
   "source": [
    "<a id='section.b'></a>\n",
    "#### b) Fourier filter (work in progress)"
   ]
  },
  {
   "cell_type": "code",
   "execution_count": null,
   "metadata": {},
   "outputs": [],
   "source": [
    "Fs = 1000"
   ]
  },
  {
   "cell_type": "code",
   "execution_count": null,
   "metadata": {},
   "outputs": [],
   "source": [
    "signal = fourier_filter(v, Fs, [0,100], [61,59])"
   ]
  },
  {
   "cell_type": "code",
   "execution_count": null,
   "metadata": {},
   "outputs": [],
   "source": [
    "plt.figure(figsize=(17,4))\n",
    "plt.plot(v[:400], 'b', label = 'original signal')\n",
    "plt.plot(signal[:400], 'r', label = 'after filtration')\n",
    "plt.xlabel('Time, ms')\n",
    "plt.ylabel('V, mV')\n",
    "plt.grid()\n",
    "plt.show()"
   ]
  },
  {
   "cell_type": "code",
   "execution_count": null,
   "metadata": {},
   "outputs": [],
   "source": []
  }
 ],
 "metadata": {
  "kernelspec": {
   "display_name": "Python 3",
   "language": "python",
   "name": "python3"
  },
  "language_info": {
   "codemirror_mode": {
    "name": "ipython",
    "version": 3
   },
   "file_extension": ".py",
   "mimetype": "text/x-python",
   "name": "python",
   "nbconvert_exporter": "python",
   "pygments_lexer": "ipython3",
   "version": "3.7.3"
  }
 },
 "nbformat": 4,
 "nbformat_minor": 2
}
